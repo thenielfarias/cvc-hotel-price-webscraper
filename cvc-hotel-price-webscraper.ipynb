{
 "cells": [
  {
   "cell_type": "code",
   "execution_count": 53,
   "id": "6b7abf8a-a794-4925-8c96-be472055a33f",
   "metadata": {},
   "outputs": [
    {
     "name": "stdout",
     "output_type": "stream",
     "text": [
      "\u001b[32mResultados:\u001b[0m\n",
      "['Hotel Granville', 'Hotel Tibagi', 'Caravelle Palace Hotel', 'Hotel Pinheirinho', 'Golden Park Curitiba', 'Master Express Curitiba', 'Ibis Budget Curitiba Centro', 'Bristol Portal Do Iguaçu', 'Bristol Upper', 'Ibis Curitiba Batel', 'Ibis Styles Curitiba Batel', 'Bristol Metropolitan', 'San Juan Executive Curitiba', 'Dan Inn Curitiba', 'Pousada Betânia', 'Alta Reggia Plaza Hotel', 'Ibis Curitiba Aeroporto', 'Nacional Inn Curitiba Torres', 'Slim Curitiba Alto Da Xv', 'Nacional Inn Curitiba Estação', 'Mercure Curitiba Aeroporto', 'Ibis Styles Curitiba Centro Cívico', 'Roochelle Hotel', 'Go Inn Curitiba', 'Blue Tree Towers Saint Michel - Curitiba', 'Hotel Aladdin', 'Victoria Villa Curitiba', 'Ibis Styles Curitiba Santa Felicidade', 'Slim Curitiba Av. Das Torres', 'Mabu Curitiba Business', 'Saint Emilion Hotel', 'San Juan Royal Curitiba', 'Trevi Hotel & Business', 'Bristol Centro Cívico', 'Ibis Curitiba Shopping', 'Batel - Rio Hotel By Bourbon Curitiba', 'Hotel Intercity Curitiba – Centro Cívico', 'Hotel Intercity Curitiba Batel', 'Deville Curitiba Batel', 'Hotel Del Rey - Curitiba', 'Hotel Moov Curitiba', 'Hotel Del Rey Curitiba', 'Hotel Sol', 'San Juan Johnscher Curitiba', 'Astron Suítes São José Dos Pinhais', 'Slaviero Essential Curitiba Shopping', 'Slaviero Essential Curitiba Batel', 'Rockefeller By Slaviero Hotéis', 'Mercure Curitiba Golden', 'Mercure Curitiba Sete De Setembro', 'Ibis Styles Curitiba Aeroporto', 'Slaviero Essential Curitiba Centro', 'Hotel Confiance Barigui', 'Pestana Curitiba Hotel', 'Bristol Brasil 500', 'Transamerica Prime Batel Curitiba', 'Grand Mercure Curitiba Rayon', 'Bourbon Curitiba Convention Hotel', 'Hotel Flat Petras', 'Hotel Centro Europeu', 'Quality Hotel Curitiba', 'Mercure Curitiba Batel', 'Full Jazz By Slaviero Hotéis', 'Nh Curitiba The Five', 'Novotel Curitiba Batel', 'Blue Tree Towers Batel Curitiba', 'Radisson Hotel Curitiba', 'Nomaa Hotel']\n",
      "['111', '111', '136', '137', '137', '156', '161', '164', '171', '171', '173', '178', '184', '184', '187', '187', '188', '189', '195', '196', '198', '199', '200', '205', '209', '210', '213', '216', '216', '219', '225', '226', '227', '230', '230', '235', '236', '236', '236', '240', '244', '245', '246', '246', '247', '251', '252', '252', '259', '259', '266', '274', '282', '283', '288', '305', '320', '322', '324', '327', '332', '338', '342', '351', '373', '382', '407', '629']\n"
     ]
    }
   ],
   "source": [
    "from selenium import webdriver\n",
    "from selenium.webdriver.chrome.options import Options\n",
    "from selenium.webdriver.common.by import By\n",
    "from selenium.webdriver.support.ui import WebDriverWait\n",
    "from selenium.common.exceptions import *\n",
    "import pandas as pd\n",
    "from time import sleep\n",
    "import os\n",
    "\n",
    "\n",
    "nome_hoteis = []\n",
    "preco_hoteis = []\n",
    "\n",
    "class ScrappyCvc:\n",
    "\n",
    "    def iniciar(self):\n",
    "        self.raspagem_de_dados()\n",
    "\n",
    "    def raspagem_de_dados(self):\n",
    "        \n",
    "        checkin = \"2021-11-15\"\n",
    "        checkout = \"2021-11-16\"\n",
    "        destinoId = \"6162\"\n",
    "        occ = \"2\"\n",
    "        chrome_options = Options()\n",
    "        chrome_options.add_experimental_option(\n",
    "            'excludeSwitches', ['enable-logging'])\n",
    "        chrome_options.add_argument('--lang=pr-BR')\n",
    "        chrome_options.add_argument('--disable-notifications')\n",
    "        self.driver = webdriver.Chrome(options=chrome_options)\n",
    "        self.driver.set_window_size(800, 700)\n",
    "        self.link = f'https://www.cvc.com.br/hotel/search?CheckIn={checkin}&CheckOut={checkout}&Location=%20-%20%20,%20Brasil&ZoneId={destinoId}&Rooms=1&Adults={occ}&Children=0&ChildAges=;&City=&State=&Country=Brasil&Name='\n",
    "        self.lista_nome_hoteis = []\n",
    "        self.lista_preco_hoteis = []\n",
    "        self.driver.get(self.link)\n",
    "        sleep(2)\n",
    "        \n",
    "        last_height = self.driver.execute_script(\"return document.body.scrollHeight\")\n",
    "        while True:\n",
    "            self.driver.execute_script(\"window.scrollTo(0, document.body.scrollHeight);\")\n",
    "            sleep(2)\n",
    "            new_height = self.driver.execute_script(\"return document.body.scrollHeight\")\n",
    "            if new_height == last_height:\n",
    "                break\n",
    "            last_height = new_height\n",
    "        lista_length = self.driver.find_elements(By.CLASS_NAME, 'buttonDetailPayments')\n",
    "        lista_max = len(lista_length)\n",
    "        \n",
    "        for p in range(1):\n",
    "            item = 1\n",
    "            for i in range(lista_max):\n",
    "                c = 1\n",
    "                while c < lista_max:\n",
    "                    try:\n",
    "                        lista_nomes = self.driver.find_elements(By.XPATH, f'/html/body/div[1]/div[2]/div/div/div[2]/div/div[{item}]/div/div[2]/div/div[1]/h2')\n",
    "                        self.lista_nome_hoteis.append(lista_nomes[0].text)\n",
    "                        sleep(1)\n",
    "                        lista_precos = self.driver.find_elements(By.XPATH, f'/html/body/div[1]/div[2]/div/div/div[2]/div/div[{item}]/div/div[3]/div/div[1]/div[1]/div[2]')\n",
    "                        self.lista_preco_hoteis.append(lista_precos[0].text)          \n",
    "                        sleep(1)\n",
    "                        item += 1\n",
    "                    except:\n",
    "                        c += 1\n",
    "                        item += 1       \n",
    "        \n",
    "        print(f'\\u001b[32m{\"Resultados:\"}\\u001b[0m')\n",
    "        print(self.lista_nome_hoteis)\n",
    "        print(self.lista_preco_hoteis)\n",
    "        \n",
    "        for nome in self.lista_nome_hoteis:\n",
    "            nome_hoteis.append(nome)\n",
    "        for preco in self.lista_preco_hoteis:\n",
    "            preco_hoteis.append(preco)\n",
    "            \n",
    "start = ScrappyCvc()\n",
    "start.iniciar()"
   ]
  },
  {
   "cell_type": "code",
   "execution_count": 54,
   "id": "656d2bf3",
   "metadata": {},
   "outputs": [
    {
     "name": "stdout",
     "output_type": "stream",
     "text": [
      "['Hotel Granville', 'Hotel Tibagi', 'Caravelle Palace Hotel', 'Hotel Pinheirinho', 'Golden Park Curitiba', 'Master Express Curitiba', 'Ibis Budget Curitiba Centro', 'Bristol Portal Do Iguaçu', 'Bristol Upper', 'Ibis Curitiba Batel', 'Ibis Styles Curitiba Batel', 'Bristol Metropolitan', 'San Juan Executive Curitiba', 'Dan Inn Curitiba', 'Pousada Betânia', 'Alta Reggia Plaza Hotel', 'Ibis Curitiba Aeroporto', 'Nacional Inn Curitiba Torres', 'Slim Curitiba Alto Da Xv', 'Nacional Inn Curitiba Estação', 'Mercure Curitiba Aeroporto', 'Ibis Styles Curitiba Centro Cívico', 'Roochelle Hotel', 'Go Inn Curitiba', 'Blue Tree Towers Saint Michel - Curitiba', 'Hotel Aladdin', 'Victoria Villa Curitiba', 'Ibis Styles Curitiba Santa Felicidade', 'Slim Curitiba Av. Das Torres', 'Mabu Curitiba Business', 'Saint Emilion Hotel', 'San Juan Royal Curitiba', 'Trevi Hotel & Business', 'Bristol Centro Cívico', 'Ibis Curitiba Shopping', 'Batel - Rio Hotel By Bourbon Curitiba', 'Hotel Intercity Curitiba – Centro Cívico', 'Hotel Intercity Curitiba Batel', 'Deville Curitiba Batel', 'Hotel Del Rey - Curitiba', 'Hotel Moov Curitiba', 'Hotel Del Rey Curitiba', 'Hotel Sol', 'San Juan Johnscher Curitiba', 'Astron Suítes São José Dos Pinhais', 'Slaviero Essential Curitiba Shopping', 'Slaviero Essential Curitiba Batel', 'Rockefeller By Slaviero Hotéis', 'Mercure Curitiba Golden', 'Mercure Curitiba Sete De Setembro', 'Ibis Styles Curitiba Aeroporto', 'Slaviero Essential Curitiba Centro', 'Hotel Confiance Barigui', 'Pestana Curitiba Hotel', 'Bristol Brasil 500', 'Transamerica Prime Batel Curitiba', 'Grand Mercure Curitiba Rayon', 'Bourbon Curitiba Convention Hotel', 'Hotel Flat Petras', 'Hotel Centro Europeu', 'Quality Hotel Curitiba', 'Mercure Curitiba Batel', 'Full Jazz By Slaviero Hotéis', 'Nh Curitiba The Five', 'Novotel Curitiba Batel', 'Blue Tree Towers Batel Curitiba', 'Radisson Hotel Curitiba', 'Nomaa Hotel']\n"
     ]
    }
   ],
   "source": [
    "print(nome_hoteis)"
   ]
  },
  {
   "cell_type": "code",
   "execution_count": 55,
   "id": "dead90de",
   "metadata": {
    "scrolled": true
   },
   "outputs": [
    {
     "name": "stdout",
     "output_type": "stream",
     "text": [
      "['111', '111', '136', '137', '137', '156', '161', '164', '171', '171', '173', '178', '184', '184', '187', '187', '188', '189', '195', '196', '198', '199', '200', '205', '209', '210', '213', '216', '216', '219', '225', '226', '227', '230', '230', '235', '236', '236', '236', '240', '244', '245', '246', '246', '247', '251', '252', '252', '259', '259', '266', '274', '282', '283', '288', '305', '320', '322', '324', '327', '332', '338', '342', '351', '373', '382', '407', '629']\n"
     ]
    }
   ],
   "source": [
    "print(preco_hoteis)"
   ]
  },
  {
   "cell_type": "code",
   "execution_count": 56,
   "id": "4460e18a",
   "metadata": {
    "scrolled": true
   },
   "outputs": [
    {
     "name": "stdout",
     "output_type": "stream",
     "text": [
      "{'Hotel Granville': '111', 'Hotel Tibagi': '111', 'Caravelle Palace Hotel': '136', 'Hotel Pinheirinho': '137', 'Golden Park Curitiba': '137', 'Master Express Curitiba': '156', 'Ibis Budget Curitiba Centro': '161', 'Bristol Portal Do Iguaçu': '164', 'Bristol Upper': '171', 'Ibis Curitiba Batel': '171', 'Ibis Styles Curitiba Batel': '173', 'Bristol Metropolitan': '178', 'San Juan Executive Curitiba': '184', 'Dan Inn Curitiba': '184', 'Pousada Betânia': '187', 'Alta Reggia Plaza Hotel': '187', 'Ibis Curitiba Aeroporto': '188', 'Nacional Inn Curitiba Torres': '189', 'Slim Curitiba Alto Da Xv': '195', 'Nacional Inn Curitiba Estação': '196', 'Mercure Curitiba Aeroporto': '198', 'Ibis Styles Curitiba Centro Cívico': '199', 'Roochelle Hotel': '200', 'Go Inn Curitiba': '205', 'Blue Tree Towers Saint Michel - Curitiba': '209', 'Hotel Aladdin': '210', 'Victoria Villa Curitiba': '213', 'Ibis Styles Curitiba Santa Felicidade': '216', 'Slim Curitiba Av. Das Torres': '216', 'Mabu Curitiba Business': '219', 'Saint Emilion Hotel': '225', 'San Juan Royal Curitiba': '226', 'Trevi Hotel & Business': '227', 'Bristol Centro Cívico': '230', 'Ibis Curitiba Shopping': '230', 'Batel - Rio Hotel By Bourbon Curitiba': '235', 'Hotel Intercity Curitiba – Centro Cívico': '236', 'Hotel Intercity Curitiba Batel': '236', 'Deville Curitiba Batel': '236', 'Hotel Del Rey - Curitiba': '240', 'Hotel Moov Curitiba': '244', 'Hotel Del Rey Curitiba': '245', 'Hotel Sol': '246', 'San Juan Johnscher Curitiba': '246', 'Astron Suítes São José Dos Pinhais': '247', 'Slaviero Essential Curitiba Shopping': '251', 'Slaviero Essential Curitiba Batel': '252', 'Rockefeller By Slaviero Hotéis': '252', 'Mercure Curitiba Golden': '259', 'Mercure Curitiba Sete De Setembro': '259', 'Ibis Styles Curitiba Aeroporto': '266', 'Slaviero Essential Curitiba Centro': '274', 'Hotel Confiance Barigui': '282', 'Pestana Curitiba Hotel': '283', 'Bristol Brasil 500': '288', 'Transamerica Prime Batel Curitiba': '305', 'Grand Mercure Curitiba Rayon': '320', 'Bourbon Curitiba Convention Hotel': '322', 'Hotel Flat Petras': '324', 'Hotel Centro Europeu': '327', 'Quality Hotel Curitiba': '332', 'Mercure Curitiba Batel': '338', 'Full Jazz By Slaviero Hotéis': '342', 'Nh Curitiba The Five': '351', 'Novotel Curitiba Batel': '373', 'Blue Tree Towers Batel Curitiba': '382', 'Radisson Hotel Curitiba': '407', 'Nomaa Hotel': '629'}\n"
     ]
    }
   ],
   "source": [
    "data_hoteis = []\n",
    "for el in zip(nome_hoteis, preco_hoteis):\n",
    "    data_hoteis.append(el)\n",
    "data_hoteis_dict = dict(data_hoteis)\n",
    "print(data_hoteis_dict)"
   ]
  },
  {
   "cell_type": "code",
   "execution_count": 57,
   "id": "48e311c2",
   "metadata": {},
   "outputs": [
    {
     "data": {
      "text/html": [
       "<div>\n",
       "<style scoped>\n",
       "    .dataframe tbody tr th:only-of-type {\n",
       "        vertical-align: middle;\n",
       "    }\n",
       "\n",
       "    .dataframe tbody tr th {\n",
       "        vertical-align: top;\n",
       "    }\n",
       "\n",
       "    .dataframe thead th {\n",
       "        text-align: right;\n",
       "    }\n",
       "</style>\n",
       "<table border=\"1\" class=\"dataframe\">\n",
       "  <thead>\n",
       "    <tr style=\"text-align: right;\">\n",
       "      <th></th>\n",
       "      <th>Nome</th>\n",
       "      <th>Preço</th>\n",
       "    </tr>\n",
       "  </thead>\n",
       "  <tbody>\n",
       "    <tr>\n",
       "      <th>0</th>\n",
       "      <td>Hotel Granville</td>\n",
       "      <td>111</td>\n",
       "    </tr>\n",
       "    <tr>\n",
       "      <th>1</th>\n",
       "      <td>Hotel Tibagi</td>\n",
       "      <td>111</td>\n",
       "    </tr>\n",
       "    <tr>\n",
       "      <th>2</th>\n",
       "      <td>Caravelle Palace Hotel</td>\n",
       "      <td>136</td>\n",
       "    </tr>\n",
       "    <tr>\n",
       "      <th>3</th>\n",
       "      <td>Hotel Pinheirinho</td>\n",
       "      <td>137</td>\n",
       "    </tr>\n",
       "    <tr>\n",
       "      <th>4</th>\n",
       "      <td>Golden Park Curitiba</td>\n",
       "      <td>137</td>\n",
       "    </tr>\n",
       "    <tr>\n",
       "      <th>...</th>\n",
       "      <td>...</td>\n",
       "      <td>...</td>\n",
       "    </tr>\n",
       "    <tr>\n",
       "      <th>63</th>\n",
       "      <td>Nh Curitiba The Five</td>\n",
       "      <td>351</td>\n",
       "    </tr>\n",
       "    <tr>\n",
       "      <th>64</th>\n",
       "      <td>Novotel Curitiba Batel</td>\n",
       "      <td>373</td>\n",
       "    </tr>\n",
       "    <tr>\n",
       "      <th>65</th>\n",
       "      <td>Blue Tree Towers Batel Curitiba</td>\n",
       "      <td>382</td>\n",
       "    </tr>\n",
       "    <tr>\n",
       "      <th>66</th>\n",
       "      <td>Radisson Hotel Curitiba</td>\n",
       "      <td>407</td>\n",
       "    </tr>\n",
       "    <tr>\n",
       "      <th>67</th>\n",
       "      <td>Nomaa Hotel</td>\n",
       "      <td>629</td>\n",
       "    </tr>\n",
       "  </tbody>\n",
       "</table>\n",
       "<p>68 rows × 2 columns</p>\n",
       "</div>"
      ],
      "text/plain": [
       "                               Nome Preço\n",
       "0                   Hotel Granville   111\n",
       "1                      Hotel Tibagi   111\n",
       "2            Caravelle Palace Hotel   136\n",
       "3                 Hotel Pinheirinho   137\n",
       "4              Golden Park Curitiba   137\n",
       "..                              ...   ...\n",
       "63             Nh Curitiba The Five   351\n",
       "64           Novotel Curitiba Batel   373\n",
       "65  Blue Tree Towers Batel Curitiba   382\n",
       "66          Radisson Hotel Curitiba   407\n",
       "67                      Nomaa Hotel   629\n",
       "\n",
       "[68 rows x 2 columns]"
      ]
     },
     "metadata": {},
     "output_type": "display_data"
    }
   ],
   "source": [
    "df_data_hoteis = pd.DataFrame(list(data_hoteis_dict.items()),\n",
    "                   columns=['Nome', 'Preço'])\n",
    "display(df_data_hoteis)"
   ]
  },
  {
   "cell_type": "code",
   "execution_count": null,
   "id": "efc0c86e",
   "metadata": {},
   "outputs": [],
   "source": [
    "df_data_hoteis.to_csv('report.csv', index=False)"
   ]
  },
  {
   "cell_type": "code",
   "execution_count": null,
   "id": "3bcc7afc",
   "metadata": {},
   "outputs": [],
   "source": []
  }
 ],
 "metadata": {
  "kernelspec": {
   "display_name": "Python 3 (ipykernel)",
   "language": "python",
   "name": "python3"
  },
  "language_info": {
   "codemirror_mode": {
    "name": "ipython",
    "version": 3
   },
   "file_extension": ".py",
   "mimetype": "text/x-python",
   "name": "python",
   "nbconvert_exporter": "python",
   "pygments_lexer": "ipython3",
   "version": "3.9.5"
  }
 },
 "nbformat": 4,
 "nbformat_minor": 5
}
