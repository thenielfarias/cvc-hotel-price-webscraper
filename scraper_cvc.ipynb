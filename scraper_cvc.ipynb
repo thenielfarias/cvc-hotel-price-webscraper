{
 "cells": [
  {
   "cell_type": "code",
   "execution_count": 35,
   "id": "c1a194fd",
   "metadata": {},
   "outputs": [],
   "source": [
    "from selenium import webdriver\n",
    "from selenium.webdriver.chrome.options import Options\n",
    "from selenium.webdriver.common.by import By\n",
    "from selenium.webdriver.support.ui import WebDriverWait\n",
    "from selenium.common.exceptions import *\n",
    "from selenium.webdriver.support import expected_conditions as EC\n",
    "from selenium.webdriver.common.by import By\n",
    "from selenium.webdriver.support.ui import WebDriverWait\n",
    "from unidecode import unidecode\n",
    "from time import sleep\n",
    "from datetime import datetime\n",
    "from datetime import date\n",
    "import os"
   ]
  },
  {
   "cell_type": "code",
   "execution_count": 36,
   "id": "51ce48ed",
   "metadata": {},
   "outputs": [],
   "source": [
    "# Chromedriver config\n",
    "\n",
    "chrome_options = Options()\n",
    "chrome_options.add_experimental_option(\n",
    "    'excludeSwitches', ['enable-logging'])\n",
    "chrome_options.add_argument('--lang=pt-BR')\n",
    "chrome_options.add_argument('--disable-notifications')"
   ]
  },
  {
   "cell_type": "code",
   "execution_count": 37,
   "id": "053ceade",
   "metadata": {},
   "outputs": [],
   "source": [
    "nome_destino = 'Balneario Camboriu'\n",
    "id_destino_cvc = '33964'\n",
    "id_destino_decolar = '192594'\n",
    "checkin = '2022-08-27' # AAAA-MM-DD\n",
    "checkout = '2022-09-01' # AAAA-MM-DD\n",
    "pax = '2' # Number of guests (adults)"
   ]
  },
  {
   "cell_type": "code",
   "execution_count": 38,
   "id": "2a4780a4",
   "metadata": {},
   "outputs": [],
   "source": [
    "from selenium import webdriver\n",
    "from selenium.webdriver.support.ui import WebDriverWait\n",
    "from selenium.webdriver.common.by import By\n",
    "from selenium.webdriver.support import expected_conditions as EC"
   ]
  },
  {
   "cell_type": "code",
   "execution_count": 41,
   "id": "14b76575",
   "metadata": {},
   "outputs": [],
   "source": [
    "options = webdriver.ChromeOptions()\n",
    "options.add_experimental_option(\"excludeSwitches\", [\"enable-automation\"])\n",
    "options.add_experimental_option('useAutomationExtension', False)"
   ]
  },
  {
   "cell_type": "code",
   "execution_count": null,
   "id": "1f02c52f",
   "metadata": {},
   "outputs": [],
   "source": [
    "# Scraper CVC\n",
    "\n",
    "nome_hoteis_cvc = []\n",
    "preco_hoteis_cvc = []\n",
    "\n",
    "class ScrappyCvc:\n",
    "\n",
    "    def iniciar(self):\n",
    "        self.raspagem_de_dados()\n",
    "\n",
    "    def raspagem_de_dados(self):\n",
    "        self.driver = webdriver.Chrome('chromedriver', options=chrome_options)\n",
    "        self.driver.set_window_size(390,844)\n",
    "        self.link = f'https://www.cvc.com.br/hotel/search?CheckIn={checkin}&CheckOut={checkout}&Location=%20-%20%20,%20Brasil&ZoneId={id_destino_cvc}&Rooms=1&Adults={pax}&Children=0&ChildAges=;&City=&State=&Country=Brasil&Name='\n",
    "        self.lista_nome_hoteis = []\n",
    "        self.lista_preco_hoteis = []\n",
    "        self.driver.get(self.link)\n",
    "        sleep(10)\n",
    "        wait = WebDriverWait(self.driver, 20)\n",
    "        \n",
    "        last_height = self.driver.execute_script(\"return document.body.scrollHeight\")\n",
    "        while True:\n",
    "            self.driver.execute_script(\"window.scrollTo(0, document.body.scrollHeight);\")\n",
    "            sleep(10)\n",
    "            new_height = self.driver.execute_script(\"return document.body.scrollHeight\")\n",
    "            if new_height == last_height:\n",
    "                break\n",
    "            last_height = new_height\n",
    "        lista_length = self.driver.find_elements(By.CLASS_NAME, 'totalPrice')\n",
    "        lista_max = len(lista_length)\n",
    "        \n",
    "        for p in range(1):\n",
    "            item = 1\n",
    "            for i in range(lista_max):\n",
    "                c = 1\n",
    "                while c < lista_max:\n",
    "                    try:\n",
    "                        lista_nomes = self.driver.find_elements(By.XPATH, f'/html/body/div[1]/div[2]/div/div[1]/div[2]/div/div[1]/div[{item}]/div/div/div[2]/div/div[1]/h2')\n",
    "                        self.lista_nome_hoteis.append(lista_nomes[0].text)\n",
    "                        sleep(1)\n",
    "                        lista_precos = self.driver.find_elements(By.XPATH, f'/html/body/div[1]/div[2]/div/div[1]/div[2]/div/div[1]/div[{item}]/div/div/div[2]/div/div[4]/div[2]/div[2]/div')\n",
    "                        self.lista_preco_hoteis.append(lista_precos[0].text)          \n",
    "                        sleep(1)\n",
    "                        item += 1\n",
    "                    except:\n",
    "                        c += 1\n",
    "                        item += 1\n",
    "                        \n",
    "        print(f'\\u001b[32m{\"Resultados:\"}\\u001b[0m')\n",
    "        print(self.lista_nome_hoteis)\n",
    "        print(self.lista_preco_hoteis)\n",
    "        \n",
    "        for nome in self.lista_nome_hoteis:\n",
    "            nome_hoteis_cvc.append(nome)\n",
    "        for preco in self.lista_preco_hoteis:\n",
    "            preco_hoteis_cvc.append(preco)\n",
    "            \n",
    "start = ScrappyCvc()\n",
    "start.iniciar()"
   ]
  }
 ],
 "metadata": {
  "kernelspec": {
   "display_name": "Python 3 (ipykernel)",
   "language": "python",
   "name": "python3"
  },
  "language_info": {
   "codemirror_mode": {
    "name": "ipython",
    "version": 3
   },
   "file_extension": ".py",
   "mimetype": "text/x-python",
   "name": "python",
   "nbconvert_exporter": "python",
   "pygments_lexer": "ipython3",
   "version": "3.9.5"
  }
 },
 "nbformat": 4,
 "nbformat_minor": 5
}
